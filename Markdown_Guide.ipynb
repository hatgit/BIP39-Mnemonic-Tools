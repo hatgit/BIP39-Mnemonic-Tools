{
  "nbformat": 4,
  "nbformat_minor": 0,
  "metadata": {
    "colab": {
      "name": "Markdown Guide",
      "provenance": [],
      "collapsed_sections": [],
      "toc_visible": true,
      "include_colab_link": true
    },
    "kernelspec": {
      "display_name": "Python 3",
      "name": "python3"
    }
  },
  "cells": [
    {
      "cell_type": "markdown",
      "metadata": {
        "id": "view-in-github",
        "colab_type": "text"
      },
      "source": [
        "<a href=\"https://colab.research.google.com/github/johhonn/BIP39-Mnemonic-Tools/blob/master/Markdown_Guide.ipynb\" target=\"_parent\"><img src=\"https://colab.research.google.com/assets/colab-badge.svg\" alt=\"Open In Colab\"/></a>"
      ]
    },
    {
      "cell_type": "markdown",
      "metadata": {
        "colab_type": "text",
        "id": "uTnBkRyvGvhW"
      },
      "source": [
        "Formatting text in Colaboratory: A guide to Colaboratory markdown\n",
        "==="
      ]
    },
    {
      "cell_type": "markdown",
      "metadata": {
        "colab_type": "text",
        "id": "70pYkR9LiOV0"
      },
      "source": [
        "## What is markdown?\n",
        "\n",
        "Colaboratory has two types of cells: text and code. The text cells are formatted using a simple markup language called markdown, based on [the original](https://daringfireball.net/projects/markdown/syntax).\n",
        "\n",
        "## Quick reference\n",
        "\n",
        "To see the markdown source, double-click a text cell, showing both the markdown source (above) and the rendered version (below). Above the markdown source there is a toolbar to assist editing.\n",
        "\n",
        "Headers are created using \\#. Use multiple \\#\\#\\# for less emphasis. For example:\n",
        ">\\# This is equivalent to an &lt;h1> tag\n",
        "\n",
        ">\\##### This is equivalent to an &lt;h5> tag\n",
        "\n",
        "To make text **bold** surround it with \\*\\*two asterisks\\*\\*. To make text *italic* use a \\*single asterisk\\* or \\_underscore\\_. \\\n",
        "_**Bold** inside italics_ and **vice-_versa_** also work. ~~Strikethrough~~ uses \\~\\~two tildes\\~\\~ while `monospace` (such as code) uses \\`backtick\\`.\n",
        "\n",
        "Blocks are indented with \\>, and multiple levels of indentation are indicated by repetition: \\>\\>\\> indents three levels.\n",
        "\n",
        "Ordered lists are created by typing any number followed by a period at the beginning of a line. Unordered lists are \\* or - at the beginning of a line. Lists can be nested by indenting using two spaces for each level of nesting.\n",
        "\n",
        "[Links](https://research.google.com/colaboratory) are created with \\[brackets around the linked text\\](and-parentheses-around-the-url.html). Naked URLs, like https://google.com, will automatically be linkified.\n",
        "Another way to create links is using references, which look like [brackets around the linked text][an-arbitrary-reference-id] and then, later anywhere in the cell on its own line, \\[an-arbitrary-reference-id]: followed-by-a-URL.html\n",
        "\n",
        "A '!' character in front of a link turns it into an inline image link: !\\[Alt text]\\(link-to-an-image.png).\n",
        "\n",
        "$\\LaTeX$ equations are surrounded by `$`. For example, `$y = 0.1 x$` renders as the following inline equation: $y = 0.1 x$. Double the `$` to set the contents off on its own centered line.\n",
        "\n",
        "Horizontal rules are created with three or more hyphens, underscores, or asterisks (\\-\\-\\-, \\_\\_\\_, or \\*\\*\\*) on their own line.\n",
        "\n",
        "Tables are created using \\-\\-\\- for the boundary between the column header and columns and \\| between the columns.\n",
        "\n",
        "Please see also [GitHub's documentation](https://help.github.com/articles/basic-writing-and-formatting-syntax/) for a similar (but not identical) version of markdown."
      ]
    },
    {
      "cell_type": "markdown",
      "metadata": {
        "colab_type": "text",
        "id": "eYaIiIaJOPqi"
      },
      "source": [
        "## Examples"
      ]
    },
    {
      "cell_type": "markdown",
      "metadata": {
        "colab_type": "text",
        "id": "tPqPXAKKkzaM"
      },
      "source": [
        "Examples of markdown text with tags repeated, escaped the second time, to clarify their function:\n",
        "\n",
        "##### \\#\\#\\#\\#\\#This text is treated as an <h5> because it has five hashes at the beginning\n",
        "\n",
        "\\**italics*\\* and \\__italics_\\_\n",
        "\n",
        "**\\*\\*bold\\*\\***\n",
        "\n",
        "\\~\\~~~strikethrough~~\\~\\~\n",
        "\n",
        "\\``monospace`\\`\n",
        "\n",
        "No indent\n",
        ">\\>One level of indentation\n",
        ">>\\>\\>Two levels of indentation\n",
        "\n",
        "An ordered list:\n",
        "1. 1\\. One\n",
        "1. 1\\. Two\n",
        "1. 1\\. Three\n",
        "\n",
        "An unordered list:\n",
        "* \\* One\n",
        "* \\* Two\n",
        "* \\* Three\n",
        "\n",
        "A naked URL: https://google.com\n",
        "\n",
        "Linked URL: \\[[Colaboratory](https://research.google.com/colaboratory)]\\(https://research.google.com/colaboratory)\n",
        "\n",
        "A linked URL using references:\n",
        "\n",
        ">\\[[Colaboratory][colaboratory-label]]\\[colaboratory-label]\n",
        "\n",
        ">\\[colaboratory-label]: https://research.google.com/colaboratory\n",
        "[colaboratory-label]: https://research.google.com/colaboratory\n",
        "\n",
        "An inline image: !\\[Google's logo](https://www.google.com/images/logos/google_logo_41.png)\n",
        ">![Google's logo](https://www.google.com/images/logos/google_logo_41.png)\n",
        "\n",
        "Equations:\n",
        "\n",
        ">$y=x^2$\n",
        "\n",
        ">$e^{i\\pi} + 1 = 0$\n",
        "\n",
        ">$e^x=\\sum_{i=0}^\\infty \\frac{1}{i!}x^i$\n",
        "\n",
        ">$\\frac{n!}{k!(n-k)!} = {n \\choose k}$\n",
        "\n",
        ">$A_{m,n} =\n",
        " \\begin{pmatrix}\n",
        "  a_{1,1} & a_{1,2} & \\cdots & a_{1,n} \\\\\n",
        "  a_{2,1} & a_{2,2} & \\cdots & a_{2,n} \\\\\n",
        "  \\vdots  & \\vdots  & \\ddots & \\vdots  \\\\\n",
        "  a_{m,1} & a_{m,2} & \\cdots & a_{m,n}\n",
        " \\end{pmatrix}$\n",
        "\n",
        "Tables:\n",
        ">```\n",
        "First column name | Second column name\n",
        "--- | ---\n",
        "Row 1, Col 1 | Row 1, Col 2\n",
        "Row 2, Col 1 | Row 2, Col 2\n",
        "```\n",
        "\n",
        "becomes:\n",
        "\n",
        ">First column name | Second column name\n",
        ">--- | ---\n",
        ">Row 1, Col 1 | Row 1, Col 2\n",
        ">Row 2, Col 1 | Row 2, Col 2\n",
        "\n",
        "Horizontal rule done with three dashes (\\-\\-\\-):\n",
        "\n",
        "---\n",
        "\n"
      ]
    },
    {
      "cell_type": "markdown",
      "metadata": {
        "colab_type": "text",
        "id": "w86a4I4fmkvD"
      },
      "source": [
        "## Differences between Colaboratory markdown and other markdown dialects\n",
        "\n",
        "Colaboratory uses [marked.js](https://github.com/chjj/marked) and so is similar but not quite identical to the markdown used by Jupyter and Github.\n",
        "\n",
        "The biggest differences are that Colaboratory supports (MathJax) $\\LaTeX$ equations like Jupyter, but does not allow HTML tags in the markdown unlike most other markdowns.\n",
        "\n",
        "Smaller differences are that Colaboratory does not support syntax highlighting in code blocks, nor does it support some GitHub additions like emojis and to-do checkboxes.\n",
        "\n",
        "If HTML must be included in a Colaboratory notebook, see the [%%html magic](/notebooks/basic_features_overview.ipynb#scrollTo=qM4myQGfQboQ)."
      ]
    },
    {
      "cell_type": "markdown",
      "metadata": {
        "colab_type": "text",
        "id": "uSx6SUb1Komv"
      },
      "source": [
        "## Useful references"
      ]
    },
    {
      "cell_type": "markdown",
      "metadata": {
        "colab_type": "text",
        "id": "5Y3CStVkLxqt"
      },
      "source": [
        "* [Github markdown basics](https://help.github.com/articles/markdown-basics/)\n",
        "* [Github flavored markdown](https://help.github.com/articles/github-flavored-markdown/)\n",
        "* [Original markdown spec: Syntax](http://daringfireball.net/projects/markdown/syntax)\n",
        "* [Original markdown spec: Basics](http://daringfireball.net/projects/markdown/basics)\n",
        "* [marked.js library used by Colaboratory](https://github.com/chjj/marked)\n",
        "* [LaTex mathematics for equations](https://en.wikibooks.org/wiki/LaTeX/Mathematics)"
      ]
    }
  ]
}